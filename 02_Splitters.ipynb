{
 "cells": [
  {
   "cell_type": "markdown",
   "metadata": {},
   "source": [
    "# Splitters and types  \n",
    "**It is tools used to divided a large text documnets into smaller,more manageable chunks**"
   ]
  },
  {
   "cell_type": "markdown",
   "metadata": {},
   "source": [
    "## 1. CharacterTextSplitter  \n",
    "**Description**: Splits text into chunks based on character count.  \n",
    "**Use Case**: Ideal for general-purpose splitting where tokenization or semantic structure is not crucial.  \n",
    "**Parameters:**  \n",
    "**chunk_size**:** Maximum size of each chunk.  \n",
    "**chunk_overlap**:** Number of overlapping characters between consecutive chunks."
   ]
  },
  {
   "cell_type": "code",
   "execution_count": 11,
   "metadata": {},
   "outputs": [],
   "source": [
    "#ignore the warnings\n",
    "import warnings\n",
    "warnings.filterwarnings('ignore')"
   ]
  },
  {
   "cell_type": "code",
   "execution_count": 6,
   "metadata": {},
   "outputs": [],
   "source": [
    "from langchain.text_splitter import CharacterTextSplitter\n",
    "\n",
    "#Define the chunks size (chunk refers to a smaller, manageable segment of a larger piece of text)\n",
    "\n",
    "chunks_size = 20\n",
    "chunks_overlap =4\n",
    "\n",
    "c_splitter = CharacterTextSplitter(chunk_size = chunks_size,\n",
    "                                #separator  = \"\\n\\n\",\n",
    "                                chunk_overlap = chunks_overlap\n",
    "                                )\n"
   ]
  },
  {
   "cell_type": "code",
   "execution_count": 7,
   "metadata": {},
   "outputs": [
    {
     "name": "stdout",
     "output_type": "stream",
     "text": [
      "['LangChain is a framework for building applications powered by LLMs. It simplifies the process of integrating memory, tools, and retrieval into intelligent workflows.']\n"
     ]
    }
   ],
   "source": [
    "#Other method \n",
    "\n",
    "text = \"LangChain is a framework for building LLM applications. It supports memory, retrieval, and more.\"\n",
    "texts = \"LangChain is a framework for building applications powered by LLMs. It simplifies the process of integrating memory, tools, and retrieval into intelligent workflows.\"\n",
    "\n",
    "splitter = CharacterTextSplitter(chunk_size = 8,chunk_overlap =2)\n",
    "chunks = splitter.split_text(texts)\n",
    "print(chunks)"
   ]
  },
  {
   "cell_type": "markdown",
   "metadata": {},
   "source": [
    "## RecursiveCharacterTextSplitter  \n",
    "**Description:** Splits text based on characters but preserves semantic boundaries such as sentences or paragraphs.  \n",
    "**Use Case:** Useful for maintaining coherence in split text chunks."
   ]
  },
  {
   "cell_type": "code",
   "execution_count": 8,
   "metadata": {},
   "outputs": [],
   "source": [
    "from langchain.text_splitter import RecursiveCharacterTextSplitter\n",
    "r_splitter = RecursiveCharacterTextSplitter(chunk_size = chunks_size,\n",
    "                                #separator  = [\"\\n\",\"\\n\\n\",\" \",\"\"], #by default separator\n",
    "                                chunk_overlap = chunks_overlap\n",
    "                                )"
   ]
  },
  {
   "cell_type": "code",
   "execution_count": 9,
   "metadata": {},
   "outputs": [
    {
     "name": "stdout",
     "output_type": "stream",
     "text": [
      "['LangChain helps build intelligent applications.', 'It integrates retrieval, memory, and external', 'external tools.']\n"
     ]
    }
   ],
   "source": [
    "text = \"\"\"LangChain helps build intelligent applications. \n",
    "It integrates retrieval, memory, and external tools.\"\"\"\n",
    "splitter = RecursiveCharacterTextSplitter(chunk_size=50, chunk_overlap=10)\n",
    "chunks = splitter.split_text(text)\n",
    "print(chunks)\n"
   ]
  },
  {
   "cell_type": "markdown",
   "metadata": {},
   "source": [
    "# SpacyTextSplitter"
   ]
  },
  {
   "cell_type": "code",
   "execution_count": 12,
   "metadata": {},
   "outputs": [
    {
     "name": "stdout",
     "output_type": "stream",
     "text": [
      "['LangChain helps build intelligent applications.', 'It integrates retrieval, memory, and external tools.']\n"
     ]
    }
   ],
   "source": [
    "from langchain.text_splitter import SpacyTextSplitter\n",
    "\n",
    "splitter = SpacyTextSplitter(chunk_size =50,chunk_overlap = 10)\n",
    "chunk =splitter.split_text(text)\n",
    "print(chunk)"
   ]
  },
  {
   "cell_type": "markdown",
   "metadata": {},
   "source": []
  },
  {
   "cell_type": "markdown",
   "metadata": {},
   "source": [
    "# NLTKTextSplitter  \n",
    "**Description**: Splits text into sentences using the Natural Language Toolkit (NLTK) library.  \n",
    "**Use Case:** Suitable for sentence-level splitting, especially for summarization or question answering tasks."
   ]
  },
  {
   "cell_type": "code",
   "execution_count": 13,
   "metadata": {},
   "outputs": [
    {
     "name": "stdout",
     "output_type": "stream",
     "text": [
      "['LangChain is great.\\n\\nIt simplifies working with LLMs.\\n\\nTry it out!']\n"
     ]
    }
   ],
   "source": [
    "from langchain.text_splitter import NLTKTextSplitter\n",
    "\n",
    "text = \"LangChain is great. It simplifies working with LLMs. Try it out!\"\n",
    "splitter = NLTKTextSplitter()\n",
    "chunks = splitter.split_text(text)\n",
    "print(chunks)\n"
   ]
  }
 ],
 "metadata": {
  "kernelspec": {
   "display_name": "base",
   "language": "python",
   "name": "python3"
  },
  "language_info": {
   "codemirror_mode": {
    "name": "ipython",
    "version": 3
   },
   "file_extension": ".py",
   "mimetype": "text/x-python",
   "name": "python",
   "nbconvert_exporter": "python",
   "pygments_lexer": "ipython3",
   "version": "3.12.7"
  }
 },
 "nbformat": 4,
 "nbformat_minor": 2
}
