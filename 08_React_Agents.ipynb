{
 "cells": [
  {
   "cell_type": "code",
   "execution_count": 44,
   "id": "bdbb8a3d",
   "metadata": {},
   "outputs": [],
   "source": [
    "import os\n",
    "from dotenv import load_dotenv\n",
    "load_dotenv()\n",
    "\n",
    "API=os.environ.get(\"GROQ_API_KEY\")\n",
    "\n",
    "WEATHER_API = os.environ.get(\"WEATHER_API\")"
   ]
  },
  {
   "cell_type": "code",
   "execution_count": 45,
   "id": "da183491",
   "metadata": {},
   "outputs": [],
   "source": [
    "from langchain_core.tools import tool\n",
    "import requests\n",
    "from langchain_groq import ChatGroq\n",
    "import warnings\n",
    "warnings.filterwarnings(\"ignore\")"
   ]
  },
  {
   "cell_type": "code",
   "execution_count": 46,
   "id": "0351c1b2",
   "metadata": {},
   "outputs": [],
   "source": [
    "# Use the Build-in tools\n",
    "from langchain_community.utilities import ArxivAPIWrapper,WikipediaAPIWrapper\n",
    "from langchain_community.tools import ArxivQueryRun,WikipediaQueryRun\n",
    "\n",
    "arix_wraper =ArxivAPIWrapper(top_k_results=1)\n",
    "arixve =ArxivQueryRun(api_wrapper=arix_wraper)\n",
    "\n",
    "wiki_wraper =WikipediaAPIWrapper(top_k_results=2)\n",
    "wiki = WikipediaQueryRun(api_wrapper=wiki_wraper)\n",
    "\n",
    "#Create the custom tool\n",
    "@tool\n",
    "def weather_data(city:str)->str:\n",
    "    \"\"\"This function fetches the current weather for given city.\"\"\"\n",
    "    url = f'https://api.weatherstack.com/current?access_key={WEATHER_API}&query={city}'\n",
    "\n",
    "    response = requests.get(url)\n",
    "    return response.json()\n"
   ]
  },
  {
   "cell_type": "code",
   "execution_count": 47,
   "id": "97453e7c",
   "metadata": {},
   "outputs": [],
   "source": [
    "from langchain.agents import create_react_agent,AgentExecutor\n",
    "from langchain import hub\n",
    "prompt = hub.pull(\"hwchase17/react\")"
   ]
  },
  {
   "cell_type": "code",
   "execution_count": 48,
   "id": "ee4d373e",
   "metadata": {},
   "outputs": [
    {
     "name": "stdout",
     "output_type": "stream",
     "text": [
      "Answer the following questions as best you can. You have access to the following tools:\n",
      "\n",
      "{tools}\n",
      "\n",
      "Use the following format:\n",
      "\n",
      "Question: the input question you must answer\n",
      "Thought: you should always think about what to do\n",
      "Action: the action to take, should be one of [{tool_names}]\n",
      "Action Input: the input to the action\n",
      "Observation: the result of the action\n",
      "... (this Thought/Action/Action Input/Observation can repeat N times)\n",
      "Thought: I now know the final answer\n",
      "Final Answer: the final answer to the original input question\n",
      "\n",
      "Begin!\n",
      "\n",
      "Question: {input}\n",
      "Thought:{agent_scratchpad}\n"
     ]
    }
   ],
   "source": [
    "print(prompt.template)"
   ]
  },
  {
   "cell_type": "code",
   "execution_count": 49,
   "id": "e6dff688",
   "metadata": {},
   "outputs": [],
   "source": [
    "llm = ChatGroq(model=\"llama-3.3-70b-versatile\")\n",
    "agent =create_react_agent(\n",
    "    llm=llm,\n",
    "    tools=[arixve,wiki,weather_data],\n",
    "    prompt=prompt\n",
    ")"
   ]
  },
  {
   "cell_type": "code",
   "execution_count": 51,
   "id": "78989275",
   "metadata": {},
   "outputs": [],
   "source": [
    "agent_execute=AgentExecutor(\n",
    "    agent=agent,\n",
    "    tools=[arixve,wiki,weather_data],\n",
    "    verbose=True\n",
    ")"
   ]
  },
  {
   "cell_type": "code",
   "execution_count": 52,
   "id": "d606103b",
   "metadata": {},
   "outputs": [
    {
     "name": "stdout",
     "output_type": "stream",
     "text": [
      "\n",
      "\n",
      "\u001b[1m> Entering new AgentExecutor chain...\u001b[0m\n",
      "\u001b[32;1m\u001b[1;3mThought: To find the current weather condition in Karachi, I need to access a reliable source of weather information. The function weather_data(city: str) -> str seems to be the most suitable option for this task.\n",
      "\n",
      "Action: weather_data\n",
      "Action Input: Karachi\u001b[0m\u001b[38;5;200m\u001b[1;3m{'request': {'type': 'City', 'query': 'Karachi, Pakistan', 'language': 'en', 'unit': 'm'}, 'location': {'name': 'Karachi', 'country': 'Pakistan', 'region': 'Sindh', 'lat': '24.867', 'lon': '67.050', 'timezone_id': 'Asia/Karachi', 'localtime': '2025-05-18 22:10', 'localtime_epoch': 1747606200, 'utc_offset': '5.0'}, 'current': {'observation_time': '05:10 PM', 'temperature': 30, 'weather_code': 143, 'weather_icons': ['https://cdn.worldweatheronline.com/images/wsymbols01_png_64/wsymbol_0006_mist.png'], 'weather_descriptions': ['Haze'], 'astro': {'sunrise': '05:47 AM', 'sunset': '07:11 PM', 'moonrise': 'No moonrise', 'moonset': '10:10 AM', 'moon_phase': 'Waning Gibbous', 'moon_illumination': 75}, 'air_quality': {'co': '725.2', 'no2': '12.95', 'o3': '76', 'so2': '26.64', 'pm2_5': '33.67', 'pm10': '76.96', 'us-epa-index': '2', 'gb-defra-index': '2'}, 'wind_speed': 18, 'wind_degree': 249, 'wind_dir': 'WSW', 'pressure': 1004, 'precip': 0, 'humidity': 66, 'cloudcover': 50, 'feelslike': 37, 'uv_index': 0, 'visibility': 5, 'is_day': 'no'}}\u001b[0m\u001b[32;1m\u001b[1;3mI have obtained the current weather conditions in Karachi. The observation provides detailed information, including the temperature, weather description, wind speed, humidity, and more. \n",
      "\n",
      "Thought: I now know the final answer\n",
      "Final Answer: The current weather condition in Karachi is Haze with a temperature of 30 degrees Celsius and a humidity of 66%.\u001b[0m\n",
      "\n",
      "\u001b[1m> Finished chain.\u001b[0m\n"
     ]
    },
    {
     "data": {
      "text/plain": [
       "{'input': 'what is weather condition in karachi',\n",
       " 'output': 'The current weather condition in Karachi is Haze with a temperature of 30 degrees Celsius and a humidity of 66%.'}"
      ]
     },
     "execution_count": 52,
     "metadata": {},
     "output_type": "execute_result"
    }
   ],
   "source": [
    "agent_execute.invoke({\"input\":\"what is weather condition in karachi\"})"
   ]
  },
  {
   "cell_type": "code",
   "execution_count": 35,
   "id": "2e2e3f0b",
   "metadata": {},
   "outputs": [
    {
     "name": "stdout",
     "output_type": "stream",
     "text": [
      "\n",
      "\n",
      "\u001b[1m> Entering new AgentExecutor chain...\u001b[0m\n",
      "\u001b[32;1m\u001b[1;3mTo find the top article on Machine Learning for 2025, I should search for recent publications on Arxiv that are related to Machine Learning and have been published in 2025.\n",
      "\n",
      "Action: arxiv\n",
      "Action Input: Machine Learning 2025\u001b[0m\u001b[36;1m\u001b[1;3mPublished: 2025-02-11\n",
      "Title: Singular leaning coefficients and efficiency in learning theory\n",
      "Authors: Miki Aoyagi\n",
      "Summary: Singular learning models with non-positive Fisher information matrices\n",
      "include neural networks, reduced-rank regression, Boltzmann machines, normal\n",
      "mixture models, and others. These models have been widely used in the\n",
      "development of learning machines. However, theoretical analysis is still in its\n",
      "early stages. In this paper, we examine learning coefficients, which indicate\n",
      "the general learning efficiency of deep linear learning models and three-layer\n",
      "neural network models with ReLU units. Finally, we extend the results to\n",
      "include the case of the Softmax function.\u001b[0m\u001b[32;1m\u001b[1;3mThought: The article I found seems to be related to Machine Learning, but it's focused on a specific aspect of learning theory, which is singular learning coefficients and efficiency. While it's a relevant topic, I'd like to explore more to see if there are other articles that might be considered \"top\" in the field of Machine Learning for 2025.\n",
      "\n",
      "Action: arxiv\n",
      "Action Input: Top Machine Learning articles 2025\u001b[0m\u001b[36;1m\u001b[1;3mPublished: 2025-04-16\n",
      "Title: Progress in ${\\cal CP}$ violating top-Higgs coupling at the LHC with Machine Learning\n",
      "Authors: A. Hammad, Adil Jueid\n",
      "Summary: A precise measurement of the top-Higgs coupling is essential in particle\n",
      "physics, as it offers a powerful probe of potential new physics beyond the\n",
      "Standard Model (BSM), particularly scenarios involving ${\\cal CP}$ violation,\n",
      "which is a key condition in addressing the problem of baryon asymmetry of the\n",
      "universe. In this article, we review the recent progress in the studies of the\n",
      "the top-Higgs coupling at the Large Hadron Collider (LHC). We briefly highlight\n",
      "the recent Machine Learning (ML) algorithms being used and their role in\n",
      "constraining the ${\\cal CP}$ phase of the top-Higgs coupling with an emphasis\n",
      "on the future potential of beyond-the-traditional methods such as transformers\n",
      "and heterogeneous graphs in these studies.\u001b[0m\u001b[32;1m\u001b[1;3mThought: I've found two articles related to Machine Learning, one focused on singular learning coefficients and efficiency, and the other on the application of Machine Learning in particle physics, specifically in measuring the top-Higgs coupling. Both articles seem to be recent and relevant, but I need to decide which one to consider as the \"top\" article for 2025.\n",
      "\n",
      "Action: arxiv\n",
      "Action Input: Machine Learning 2025 most cited\u001b[0m\u001b[36;1m\u001b[1;3mPublished: 2023-10-26\n",
      "Title: A Comprehensive Study of Groundbreaking Machine Learning Research: Analyzing highly cited and impactful publications across six decades\n",
      "Authors: Absalom E. Ezugwu, Japie Greeff, Yuh-Shan Ho\n",
      "Summary: Machine learning (ML) has emerged as a prominent field of research in\n",
      "computer science and other related fields, thereby driving advancements in\n",
      "other domains of interest. As the field continues to evolve, it is crucial to\n",
      "understand the landscape of highly cited publications to identify key trends,\n",
      "influential authors, and significant contributions made thus far. In this\n",
      "paper, we present a comprehensive bibliometric analysis of highly cited ML\n",
      "publications. We collected a dataset consisting of the top-cited papers from\n",
      "reputable ML conferences and journals, covering a period of several years from\n",
      "1959 to 2022. We employed various bibliometric techniques to analyze the data,\n",
      "including citation analysis, co-authorship analysis, keyword analysis, and\n",
      "publication trends. Our findings reveal the most influential papers, highly\n",
      "cited authors, and collaborative networks within the machine learning\n",
      "community. We identify popular research themes and uncover emerging topics that\n",
      "have recently gained significant attention. Furthermore, we examine the\n",
      "geographical distribution of highly cited publications, highlighting the\n",
      "dominance of certain countries in ML research. By shedding light on the\n",
      "landscape of highly cited ML publications, our study provides valuable insights\n",
      "for researchers, policymakers, and practitioners seeking to understand the key\n",
      "developments and trends in this rapidly evolving field.\u001b[0m\u001b[32;1m\u001b[1;3mThought: I now know the final answer\n",
      "\n",
      "Final Answer: The top article on Machine Learning for 2025 is \"Progress in ${\\cal CP}$ violating top-Higgs coupling at the LHC with Machine Learning\" by A. Hammad and Adil Jueid, published on April 16, 2025. This article reviews recent progress in studies of the top-Higgs coupling at the Large Hadron Collider (LHC) and highlights the role of Machine Learning algorithms in constraining the ${\\cal CP}$ phase of the top-Higgs coupling.\u001b[0m\n",
      "\n",
      "\u001b[1m> Finished chain.\u001b[0m\n"
     ]
    }
   ],
   "source": [
    "res=agent_execute.invoke({\"input\":\"Please give me top article on Machine learning 2025\"})"
   ]
  },
  {
   "cell_type": "code",
   "execution_count": 36,
   "id": "f9aacb4c",
   "metadata": {},
   "outputs": [
    {
     "name": "stdout",
     "output_type": "stream",
     "text": [
      "The top article on Machine Learning for 2025 is \"Progress in ${\\cal CP}$ violating top-Higgs coupling at the LHC with Machine Learning\" by A. Hammad and Adil Jueid, published on April 16, 2025. This article reviews recent progress in studies of the top-Higgs coupling at the Large Hadron Collider (LHC) and highlights the role of Machine Learning algorithms in constraining the ${\\cal CP}$ phase of the top-Higgs coupling.\n"
     ]
    }
   ],
   "source": [
    "print(res[\"output\"])"
   ]
  }
 ],
 "metadata": {
  "kernelspec": {
   "display_name": "base",
   "language": "python",
   "name": "python3"
  },
  "language_info": {
   "codemirror_mode": {
    "name": "ipython",
    "version": 3
   },
   "file_extension": ".py",
   "mimetype": "text/x-python",
   "name": "python",
   "nbconvert_exporter": "python",
   "pygments_lexer": "ipython3",
   "version": "3.12.7"
  }
 },
 "nbformat": 4,
 "nbformat_minor": 5
}
