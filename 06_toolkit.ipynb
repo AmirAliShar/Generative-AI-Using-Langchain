{
 "cells": [
  {
   "cell_type": "code",
   "execution_count": 2,
   "id": "7badc225",
   "metadata": {},
   "outputs": [],
   "source": [
    "from langchain_groq import  ChatGroq\n",
    "from langchain_core.tools import tool\n",
    "from langchain_core.messages import HumanMessage\n",
    "import requests\n"
   ]
  },
  {
   "cell_type": "code",
   "execution_count": null,
   "id": "a16fc7a4",
   "metadata": {},
   "outputs": [],
   "source": [
    "from dotenv import load_dotenv\n",
    "import os\n",
    "load_dotenv()\n",
    "GROQ_API_KEY = os.environ.get('GROQ_API_KEY')\n",
    "EXCHANGE_API= os.environ.get('EXCHANGE_API')"
   ]
  },
  {
   "cell_type": "code",
   "execution_count": 4,
   "id": "0de0e96e",
   "metadata": {},
   "outputs": [],
   "source": [
    "#Create the tool\n",
    "@tool\n",
    "def multiply (a:int,b:int)-> int:\n",
    "    \"\"\"Given two number a and b this tool their product\"\"\"\n",
    "    return a*b"
   ]
  },
  {
   "cell_type": "code",
   "execution_count": 5,
   "id": "1d68920d",
   "metadata": {},
   "outputs": [
    {
     "data": {
      "text/plain": [
       "15"
      ]
     },
     "execution_count": 5,
     "metadata": {},
     "output_type": "execute_result"
    }
   ],
   "source": [
    "multiply.invoke({\"a\":3,\"b\":5})"
   ]
  },
  {
   "cell_type": "code",
   "execution_count": 6,
   "id": "74c61e4a",
   "metadata": {},
   "outputs": [],
   "source": [
    "# Bind tool\n",
    "llm = ChatGroq(model=\"llama-3.3-70b-versatile\")\n",
    "llmBind=llm.bind_tools([multiply])"
   ]
  },
  {
   "cell_type": "code",
   "execution_count": 7,
   "id": "4caadd5c",
   "metadata": {},
   "outputs": [
    {
     "data": {
      "text/plain": [
       "AIMessage(content=\"I'm doing well, thanks for asking. Is there something I can help you with or would you like to chat?\", additional_kwargs={}, response_metadata={'token_usage': {'completion_tokens': 25, 'prompt_tokens': 231, 'total_tokens': 256, 'completion_time': 0.090909091, 'prompt_time': 0.021747376, 'queue_time': 0.20452411799999998, 'total_time': 0.112656467}, 'model_name': 'llama-3.3-70b-versatile', 'system_fingerprint': 'fp_6507bcfb6f', 'finish_reason': 'stop', 'logprobs': None}, id='run-6b64ae9e-ea9a-4f56-b030-304a69bccca4-0', usage_metadata={'input_tokens': 231, 'output_tokens': 25, 'total_tokens': 256})"
      ]
     },
     "execution_count": 7,
     "metadata": {},
     "output_type": "execute_result"
    }
   ],
   "source": [
    "\n",
    "llmBind.invoke(\"Hi,How are You\")"
   ]
  },
  {
   "cell_type": "code",
   "execution_count": 8,
   "id": "d7c46a8d",
   "metadata": {},
   "outputs": [],
   "source": [
    "#Tool calling\n",
    "res =llmBind.invoke(\"Can you multiply 3 and 4\")"
   ]
  },
  {
   "cell_type": "code",
   "execution_count": 9,
   "id": "8aa29cd7",
   "metadata": {},
   "outputs": [
    {
     "data": {
      "text/plain": [
       "{'name': 'multiply',\n",
       " 'args': {'a': 3, 'b': 4},\n",
       " 'id': 'call_9arq',\n",
       " 'type': 'tool_call'}"
      ]
     },
     "execution_count": 9,
     "metadata": {},
     "output_type": "execute_result"
    }
   ],
   "source": [
    "res.tool_calls[0]"
   ]
  },
  {
   "cell_type": "code",
   "execution_count": 10,
   "id": "3cc68e7c",
   "metadata": {},
   "outputs": [
    {
     "data": {
      "text/plain": [
       "ToolMessage(content='12', name='multiply', tool_call_id='call_pd84')"
      ]
     },
     "execution_count": 10,
     "metadata": {},
     "output_type": "execute_result"
    }
   ],
   "source": [
    "# Tool execution\n",
    "multiply.invoke({'name': 'multiply',\n",
    " 'args': {'a': 3, 'b': 4},\n",
    " 'id': 'call_pd84',\n",
    " 'type': 'tool_call'})"
   ]
  },
  {
   "cell_type": "code",
   "execution_count": 11,
   "id": "1f7d9e6c",
   "metadata": {},
   "outputs": [],
   "source": [
    "query =HumanMessage(\"What is product of 4 and 54\")\n",
    "message=[query]"
   ]
  },
  {
   "cell_type": "code",
   "execution_count": 12,
   "id": "a3d16a89",
   "metadata": {},
   "outputs": [
    {
     "data": {
      "text/plain": [
       "AIMessage(content='', additional_kwargs={'tool_calls': [{'id': 'call_tzrp', 'function': {'arguments': '{\"a\": 4, \"b\": 54}', 'name': 'multiply'}, 'type': 'function'}]}, response_metadata={'token_usage': {'completion_tokens': 19, 'prompt_tokens': 235, 'total_tokens': 254, 'completion_time': 0.069090909, 'prompt_time': 0.014265597, 'queue_time': 0.20415618300000002, 'total_time': 0.083356506}, 'model_name': 'llama-3.3-70b-versatile', 'system_fingerprint': 'fp_3f3b593e33', 'finish_reason': 'tool_calls', 'logprobs': None}, id='run-888c8430-de96-484e-9d93-3fe5cdaec146-0', tool_calls=[{'name': 'multiply', 'args': {'a': 4, 'b': 54}, 'id': 'call_tzrp', 'type': 'tool_call'}], usage_metadata={'input_tokens': 235, 'output_tokens': 19, 'total_tokens': 254})"
      ]
     },
     "execution_count": 12,
     "metadata": {},
     "output_type": "execute_result"
    }
   ],
   "source": [
    "llmBind.invoke(message)"
   ]
  },
  {
   "cell_type": "markdown",
   "id": "1a475f64",
   "metadata": {},
   "source": [
    "# Currancy converter"
   ]
  },
  {
   "cell_type": "code",
   "execution_count": null,
   "id": "f388d02b",
   "metadata": {},
   "outputs": [],
   "source": [
    "from langchain_core.tools import InjectedToolArg\n",
    "from typing import Annotated\n",
    "@tool\n",
    "def get_conversion_factor(base_currency: str, target_currency: str) -> float:\n",
    "  \"\"\"\n",
    "  This function fetches the currency conversion factor between a given base currency and a target currency\n",
    "  \"\"\"\n",
    "  url = f'https://v6.exchangerate-api.com/v6/{EXCHANGE_API}/pair/{base_currency}/{target_currency}'\n",
    "\n",
    "  response = requests.get(url)\n",
    "\n",
    "  return response.json()\n",
    "\n",
    "@tool\n",
    "def convert(base_currency_value: int, conversion_rate: Annotated[float, InjectedToolArg]) -> float:\n",
    "  \"\"\"\n",
    "  given a currency conversion rate this function calculates the target currency value from a given base currency value\n",
    "  \"\"\"\n",
    "\n",
    "  return base_currency_value * conversion_rate"
   ]
  },
  {
   "cell_type": "code",
   "execution_count": 29,
   "id": "5dc05b81",
   "metadata": {},
   "outputs": [
    {
     "data": {
      "text/plain": [
       "{'result': 'success',\n",
       " 'documentation': 'https://www.exchangerate-api.com/docs',\n",
       " 'terms_of_use': 'https://www.exchangerate-api.com/terms',\n",
       " 'time_last_update_unix': 1747526401,\n",
       " 'time_last_update_utc': 'Sun, 18 May 2025 00:00:01 +0000',\n",
       " 'time_next_update_unix': 1747612801,\n",
       " 'time_next_update_utc': 'Mon, 19 May 2025 00:00:01 +0000',\n",
       " 'base_code': 'USD',\n",
       " 'target_code': 'PKR',\n",
       " 'conversion_rate': 281.795}"
      ]
     },
     "execution_count": 29,
     "metadata": {},
     "output_type": "execute_result"
    }
   ],
   "source": [
    "get_conversion_factor.invoke({'base_currency':'USD','target_currency':'PKR'})"
   ]
  },
  {
   "cell_type": "code",
   "execution_count": 30,
   "id": "c26b64d9",
   "metadata": {},
   "outputs": [
    {
     "data": {
      "text/plain": [
       "2817.9500000000003"
      ]
     },
     "execution_count": 30,
     "metadata": {},
     "output_type": "execute_result"
    }
   ],
   "source": [
    "convert.invoke({'base_currency_value':10, 'conversion_rate':281.795})"
   ]
  },
  {
   "cell_type": "code",
   "execution_count": 31,
   "id": "a2e34225",
   "metadata": {},
   "outputs": [],
   "source": [
    "tools=llm.bind_tools([get_conversion_factor,convert])"
   ]
  },
  {
   "cell_type": "code",
   "execution_count": 39,
   "id": "a6977483",
   "metadata": {},
   "outputs": [],
   "source": [
    "messages = [HumanMessage('What is the conversion factor between USD and PKR, and based on that can you convert 10 USD to PKR')]"
   ]
  },
  {
   "cell_type": "code",
   "execution_count": 40,
   "id": "191dc498",
   "metadata": {},
   "outputs": [],
   "source": [
    "ai_message =tools.invoke(messages)"
   ]
  },
  {
   "cell_type": "code",
   "execution_count": 41,
   "id": "b3ebcd63",
   "metadata": {},
   "outputs": [],
   "source": [
    "messages.append(ai_message)"
   ]
  },
  {
   "cell_type": "code",
   "execution_count": 42,
   "id": "7516680d",
   "metadata": {},
   "outputs": [],
   "source": [
    "import json\n",
    "\n",
    "for tool_call in ai_message.tool_calls:\n",
    "  # execute the 1st tool and get the value of conversion rate\n",
    "  if tool_call['name'] == 'get_conversion_factor':\n",
    "    tool_message1 = get_conversion_factor.invoke(tool_call)\n",
    "    # fetch this conversion rate\n",
    "    conversion_rate = json.loads(tool_message1.content)['conversion_rate']\n",
    "    # append this tool message to messages list\n",
    "    messages.append(tool_message1)\n",
    "  # execute the 2nd tool using the conversion rate from tool 1\n",
    "  if tool_call['name'] == 'convert':\n",
    "    # fetch the current arg\n",
    "    tool_call['args']['conversion_rate'] = conversion_rate\n",
    "    tool_message2 = convert.invoke(tool_call)\n",
    "    messages.append(tool_message2)\n",
    "\n"
   ]
  },
  {
   "cell_type": "code",
   "execution_count": 43,
   "id": "65d01483",
   "metadata": {},
   "outputs": [
    {
     "data": {
      "text/plain": [
       "[HumanMessage(content='What is the conversion factor between USD and PKR, and based on that can you convert 10 USD to PKR', additional_kwargs={}, response_metadata={}),\n",
       " AIMessage(content='', additional_kwargs={'tool_calls': [{'id': 'call_n6rw', 'function': {'arguments': '{\"base_currency\": \"USD\", \"target_currency\": \"PKR\"}', 'name': 'get_conversion_factor'}, 'type': 'function'}, {'id': 'call_kqgd', 'function': {'arguments': '{\"base_currency_value\": 10}', 'name': 'convert'}, 'type': 'function'}]}, response_metadata={'token_usage': {'completion_tokens': 38, 'prompt_tokens': 349, 'total_tokens': 387, 'completion_time': 0.138181818, 'prompt_time': 0.029433189, 'queue_time': 0.21971488, 'total_time': 0.167615007}, 'model_name': 'llama-3.3-70b-versatile', 'system_fingerprint': 'fp_6507bcfb6f', 'finish_reason': 'tool_calls', 'logprobs': None}, id='run-218751d4-633f-4301-ba0b-d5f2496d9ee5-0', tool_calls=[{'name': 'get_conversion_factor', 'args': {'base_currency': 'USD', 'target_currency': 'PKR'}, 'id': 'call_n6rw', 'type': 'tool_call'}, {'name': 'convert', 'args': {'base_currency_value': 10, 'conversion_rate': 281.795}, 'id': 'call_kqgd', 'type': 'tool_call'}], usage_metadata={'input_tokens': 349, 'output_tokens': 38, 'total_tokens': 387}),\n",
       " ToolMessage(content='{\"result\": \"success\", \"documentation\": \"https://www.exchangerate-api.com/docs\", \"terms_of_use\": \"https://www.exchangerate-api.com/terms\", \"time_last_update_unix\": 1747526401, \"time_last_update_utc\": \"Sun, 18 May 2025 00:00:01 +0000\", \"time_next_update_unix\": 1747612801, \"time_next_update_utc\": \"Mon, 19 May 2025 00:00:01 +0000\", \"base_code\": \"USD\", \"target_code\": \"PKR\", \"conversion_rate\": 281.795}', name='get_conversion_factor', tool_call_id='call_n6rw'),\n",
       " ToolMessage(content='2817.9500000000003', name='convert', tool_call_id='call_kqgd')]"
      ]
     },
     "execution_count": 43,
     "metadata": {},
     "output_type": "execute_result"
    }
   ],
   "source": [
    "messages"
   ]
  },
  {
   "cell_type": "code",
   "execution_count": 44,
   "id": "d093f42d",
   "metadata": {},
   "outputs": [
    {
     "data": {
      "text/plain": [
       "'The conversion factor between USD and PKR is 281.795. Based on this conversion factor, 10 USD is equal to 2817.95 PKR.'"
      ]
     },
     "execution_count": 44,
     "metadata": {},
     "output_type": "execute_result"
    }
   ],
   "source": [
    "tools.invoke(messages).content"
   ]
  }
 ],
 "metadata": {
  "kernelspec": {
   "display_name": "base",
   "language": "python",
   "name": "python3"
  },
  "language_info": {
   "codemirror_mode": {
    "name": "ipython",
    "version": 3
   },
   "file_extension": ".py",
   "mimetype": "text/x-python",
   "name": "python",
   "nbconvert_exporter": "python",
   "pygments_lexer": "ipython3",
   "version": "3.12.7"
  }
 },
 "nbformat": 4,
 "nbformat_minor": 5
}
