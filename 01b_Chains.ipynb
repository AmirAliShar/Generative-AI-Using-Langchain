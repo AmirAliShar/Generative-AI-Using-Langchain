{
 "cells": [
  {
   "cell_type": "markdown",
   "metadata": {},
   "source": [
    "# Simple chain"
   ]
  },
  {
   "cell_type": "code",
   "execution_count": 27,
   "metadata": {},
   "outputs": [
    {
     "data": {
      "text/plain": [
       "True"
      ]
     },
     "execution_count": 27,
     "metadata": {},
     "output_type": "execute_result"
    }
   ],
   "source": [
    "from langchain_groq import ChatGroq\n",
    "from langchain_core.prompts import PromptTemplate\n",
    "from langchain_core.output_parsers import StrOutputParser\n",
    "import os \n",
    "from dotenv import load_dotenv\n",
    "load_dotenv()"
   ]
  },
  {
   "cell_type": "code",
   "execution_count": 28,
   "metadata": {},
   "outputs": [],
   "source": [
    "GROQ_API_KEY =os.environ.get(\"GROQ_API_KEY\")\n",
    "LLM=ChatGroq(model=\"llama-3.3-70b-versatile\")"
   ]
  },
  {
   "cell_type": "code",
   "execution_count": 29,
   "metadata": {},
   "outputs": [],
   "source": [
    "prompt =PromptTemplate(\n",
    "    template=\"Generative 5 intersting facts about{topic}\",\n",
    "    input_variables=[\"topic\"]\n",
    ")\n",
    "parser=StrOutputParser()\n",
    "\n",
    "#Join these steps\n",
    "chain = prompt |LLM |parser\n",
    "result =chain.invoke({\"topic\":\" AI \"})\n"
   ]
  },
  {
   "cell_type": "code",
   "execution_count": 30,
   "metadata": {},
   "outputs": [
    {
     "name": "stdout",
     "output_type": "stream",
     "text": [
      "Here are 5 interesting facts about AI:\n",
      "\n",
      "1. **The term \"Artificial Intelligence\" was coined in 1956**: The term \"Artificial Intelligence\" was first used by computer scientist John McCarthy in 1956, at a conference at Dartmouth College. McCarthy, along with other prominent researchers like Marvin Minsky and Nathaniel Rochester, organized the conference to discuss the possibility of creating machines that could simulate human intelligence.\n",
      "\n",
      "2. **AI can learn from its mistakes**: One of the key features of AI is its ability to learn from its mistakes. This is known as \"machine learning,\" and it allows AI systems to improve their performance over time by analyzing data and adjusting their algorithms. For example, an AI system designed to recognize images can learn to recognize new images by analyzing its past mistakes and adjusting its algorithms accordingly.\n",
      "\n",
      "3. **The first AI program was written in 1951**: The first AI program was written in 1951 by a British computer scientist named Alan Turing. The program, called the \"Turing Test,\" was designed to simulate a conversation between a human and a machine. The program was able to fool some human evaluators into thinking that they were talking to another human, rather than a machine.\n",
      "\n",
      "4. **AI is being used to create art and music**: AI is being used to create art and music that is indistinguishable from that created by humans. For example, AI algorithms can generate paintings, sculptures, and other forms of visual art that are similar in style to those created by famous artists. Similarly, AI can generate music that is similar in style to that created by famous composers.\n",
      "\n",
      "5. **AI can analyze vast amounts of data in real-time**: One of the key benefits of AI is its ability to analyze vast amounts of data in real-time. This allows AI systems to identify patterns and trends that might be missed by human analysts. For example, AI systems can analyze data from sensors and other sources to predict when a piece of equipment is likely to fail, allowing for maintenance to be scheduled before the failure occurs. This can help to reduce downtime and improve overall efficiency.\n"
     ]
    }
   ],
   "source": [
    "print(result)"
   ]
  },
  {
   "cell_type": "code",
   "execution_count": 31,
   "metadata": {},
   "outputs": [],
   "source": [
    "result1 =chain.invoke({\"topic\":\" two topics on  AI \"})"
   ]
  },
  {
   "cell_type": "code",
   "execution_count": 32,
   "metadata": {},
   "outputs": [
    {
     "name": "stdout",
     "output_type": "stream",
     "text": [
      "Here are 5 interesting facts about two topics related to AI: Natural Language Processing (NLP) and Computer Vision:\n",
      "\n",
      "**Topic 1: Natural Language Processing (NLP)**\n",
      "\n",
      "1. **Language Understanding**: NLP has enabled AI models to understand and interpret human language, allowing for applications such as chatbots, virtual assistants, and language translation software.\n",
      "2. **Sentiment Analysis**: NLP can be used to analyze text data and determine the sentiment or emotional tone behind it, which has applications in fields such as marketing, customer service, and social media monitoring.\n",
      "\n",
      "**Topic 2: Computer Vision**\n",
      "\n",
      "3. **Image Recognition**: Computer vision has enabled AI models to recognize and classify objects within images, allowing for applications such as self-driving cars, facial recognition software, and medical imaging analysis.\n",
      "4. **Object Detection**: Computer vision can be used to detect and locate objects within images and videos, which has applications in fields such as security surveillance, robotics, and autonomous vehicles.\n",
      "5. **Generative Models**: Computer vision has also led to the development of generative models, such as Generative Adversarial Networks (GANs), which can generate realistic images and videos, and have applications in fields such as art, entertainment, and advertising.\n",
      "\n",
      "These two topics are closely related, as NLP and computer vision are often used together in applications such as image captioning, visual question answering, and multimodal sentiment analysis.\n"
     ]
    }
   ],
   "source": [
    "print(result1)"
   ]
  },
  {
   "cell_type": "code",
   "execution_count": 33,
   "metadata": {},
   "outputs": [
    {
     "name": "stdout",
     "output_type": "stream",
     "text": [
      "     +-------------+       \n",
      "     | PromptInput |       \n",
      "     +-------------+       \n",
      "            *              \n",
      "            *              \n",
      "            *              \n",
      "    +----------------+     \n",
      "    | PromptTemplate |     \n",
      "    +----------------+     \n",
      "            *              \n",
      "            *              \n",
      "            *              \n",
      "      +----------+         \n",
      "      | ChatGroq |         \n",
      "      +----------+         \n",
      "            *              \n",
      "            *              \n",
      "            *              \n",
      "   +-----------------+     \n",
      "   | StrOutputParser |     \n",
      "   +-----------------+     \n",
      "            *              \n",
      "            *              \n",
      "            *              \n",
      "+-----------------------+  \n",
      "| StrOutputParserOutput |  \n",
      "+-----------------------+  \n"
     ]
    }
   ],
   "source": [
    "#Visualize the chains\n",
    "#!pip install grandalf\n",
    "\n",
    "chain.get_graph().print_ascii()"
   ]
  },
  {
   "cell_type": "code",
   "execution_count": 34,
   "metadata": {},
   "outputs": [
    {
     "data": {
      "image/png": "[encoded data removed]",
      "text/plain": [
       "<IPython.core.display.Image object>"
      ]
     },
     "metadata": {},
     "output_type": "display_data"
    }
   ],
   "source": [
    "from IPython.display import display,Image\n",
    "display(Image(chain.get_graph().draw_mermaid_png()))\n",
    "\n"
   ]
  },
  {
   "cell_type": "markdown",
   "metadata": {},
   "source": [
    "# Sequential Chain"
   ]
  },
  {
   "cell_type": "markdown",
   "metadata": {},
   "source": [
    "\"\"\"\n",
    "topic --> llm --> report --> llm --> summary\n",
    "\"\"\"\n",
    "\n",
    "**a type of chain that executes multiple steps or operations in a defined order,\n",
    "where the output of one step serves as the input for the next,\n",
    "enabling the creation of complex workflows**"
   ]
  },
  {
   "cell_type": "code",
   "execution_count": 27,
   "metadata": {},
   "outputs": [],
   "source": [
    "prompt1 =PromptTemplate(\n",
    "    template=\"Generative a details report on {topic}\",\n",
    "    input_variables=[\"topic\"]\n",
    ")\n",
    "\n",
    "\n",
    "prompt2 =PromptTemplate(\n",
    "    template=\"Generative a five pointer summary from the following text \\n {text}\",\n",
    "    input_variables=[\"text\"]\n",
    ")\n",
    " "
   ]
  },
  {
   "cell_type": "code",
   "execution_count": 35,
   "metadata": {},
   "outputs": [],
   "source": [
    "chain = prompt1 |LLM |parser | prompt2 | LLM | parser"
   ]
  },
  {
   "cell_type": "code",
   "execution_count": 36,
   "metadata": {},
   "outputs": [],
   "source": [
    "seq= chain.invoke ({\"topic\":\"AI policy of 2025\"})"
   ]
  },
  {
   "cell_type": "code",
   "execution_count": 37,
   "metadata": {},
   "outputs": [
    {
     "name": "stdout",
     "output_type": "stream",
     "text": [
      "Here is a five-pointer summary of the AI Policy Report 2025:\n",
      "\n",
      "1. **Responsible AI Development**: The AI policy aims to promote the development and deployment of AI technologies in a responsible and ethical manner, focusing on transparency, explainability, and accountability to ensure safe and beneficial use of AI.\n",
      "\n",
      "2. **Addressing Concerns**: The policy addresses concerns around job displacement, bias, and accountability by introducing regulations to prevent bias, providing education and retraining programs for workers, and establishing a framework for accountability and transparency in AI decision-making.\n",
      "\n",
      "3. **Standards and Regulations**: The policy establishes a set of standards for AI development and deployment, including guidelines for data quality, model interpretability, and system reliability, and introduces a regulatory framework for AI, including rules and guidelines for AI development, deployment, and use.\n",
      "\n",
      "4. **Incentives and Funding**: The policy offers tax incentives, grants, and funding for AI research and development, as well as investment in AI infrastructure, to drive innovation and adoption, and encourages collaboration between academia, industry, and government.\n",
      "\n",
      "5. **Ongoing Evaluation and Improvement**: The policy recommends continuously monitoring and evaluating the AI policy to ensure it remains relevant and effective, and encourages international cooperation, investment in AI education and workforce development, and the development of new job opportunities and industries that leverage AI.\n"
     ]
    }
   ],
   "source": [
    "print(seq)"
   ]
  },
  {
   "cell_type": "code",
   "execution_count": 31,
   "metadata": {},
   "outputs": [
    {
     "name": "stdout",
     "output_type": "stream",
     "text": [
      "     +-------------+       \n",
      "     | PromptInput |       \n",
      "     +-------------+       \n",
      "            *              \n",
      "            *              \n",
      "            *              \n",
      "    +----------------+     \n",
      "    | PromptTemplate |     \n",
      "    +----------------+     \n",
      "            *              \n",
      "            *              \n",
      "            *              \n",
      "      +----------+         \n",
      "      | ChatGroq |         \n",
      "      +----------+         \n",
      "            *              \n",
      "            *              \n",
      "            *              \n",
      "   +-----------------+     \n",
      "   | StrOutputParser |     \n",
      "   +-----------------+     \n",
      "            *              \n",
      "            *              \n",
      "            *              \n",
      "+-----------------------+  \n",
      "| StrOutputParserOutput |  \n",
      "+-----------------------+  \n",
      "            *              \n",
      "            *              \n",
      "            *              \n",
      "    +----------------+     \n",
      "    | PromptTemplate |     \n",
      "    +----------------+     \n",
      "            *              \n",
      "            *              \n",
      "            *              \n",
      "      +----------+         \n",
      "      | ChatGroq |         \n",
      "      +----------+         \n",
      "            *              \n",
      "            *              \n",
      "            *              \n",
      "   +-----------------+     \n",
      "   | StrOutputParser |     \n",
      "   +-----------------+     \n",
      "            *              \n",
      "            *              \n",
      "            *              \n",
      "+-----------------------+  \n",
      "| StrOutputParserOutput |  \n",
      "+-----------------------+  \n"
     ]
    }
   ],
   "source": [
    "chain.get_graph().print_ascii()"
   ]
  },
  {
   "cell_type": "markdown",
   "metadata": {},
   "source": [
    "# Parallel Chain\n",
    "\n",
    "when the one topic and want to generate the more topics and finally merge them in one model\n",
    "as linear regression --> notes and quizes  \n",
    "**allows you to execute multiple tasks or chains concurrently, significantly reducing overall execution time, especially when dealing with independent tasks.**"
   ]
  },
  {
   "cell_type": "code",
   "execution_count": 7,
   "metadata": {},
   "outputs": [],
   "source": [
    "LLM1=ChatGroq(model=\"llama-3.3-70b-versatile\")\n",
    "LLM2=ChatGroq(model=\"Gemma2-9b-It\")"
   ]
  },
  {
   "cell_type": "code",
   "execution_count": null,
   "metadata": {},
   "outputs": [],
   "source": [
    "prompt1 =PromptTemplate(\n",
    "    template=\"Generate the short notes from the following text \\n {text}\",\n",
    "    input_variables=[\"text\"]\n",
    ")\n",
    "\n",
    "prompt2 =PromptTemplate(\n",
    "    template=\"Generate 5 short question answers  quiz from the following text \\n {text}\",\n",
    "    input_variables=[\"text\"]\n",
    ")\n",
    "\n",
    "prompt3 =PromptTemplate(\n",
    "    template=\"Merge the provided notes and quiz into single document \\n notes-> {notes} and {quiz}\",\n",
    "    input_variables=[\"notes\",\"quit\"]\n",
    ")\n",
    "\n",
    "parser =StrOutputParser()\n",
    "\n",
    "#First make the parallel chain\n",
    "from langchain.schema.runnable import RunnableParallel\n",
    "parallel_chain =RunnableParallel({\n",
    "    \"notes\":prompt1 | LLM1 |parser,\n",
    "    \"quiz\":prompt2 |LLM2 |parser\n",
    "})\n",
    "\n",
    "#Second the merging\n",
    "\n",
    "merging_chain = prompt3 |LLM1 |parser\n",
    "\n",
    "Par_chain = parallel_chain | merging_chain"
   ]
  },
  {
   "cell_type": "code",
   "execution_count": 46,
   "metadata": {},
   "outputs": [],
   "source": [
    "text = \"\"\"\n",
    "A Random Forest is a collection of decision trees that work together to make predictions. In this article, we'll explain how the Random Forest algorithm works and how to use it.\n",
    "\n",
    "Understanding Intuition for Random Forest Algorithm\n",
    "Random Forest algorithm is a powerful tree learning technique in Machine Learning to make predictions and then we do voting of all the tress to make prediction. They are widely used for classification and regression task.\n",
    "\n",
    "It is a type of classifier that uses many decision trees to make predictions.\n",
    "It takes different random parts of the dataset to train each tree and then it combines the results by averaging them. This approach helps improve the accuracy of predictions. Random Forest is based on ensemble learning.\n",
    "Imagine asking a group of friends for advice on where to go for vacation. Each friend gives their recommendation based on their unique perspective and preferences (decision trees trained on different subsets of data). You then make your final decision by considering the majority opinion or averaging their suggestions (ensemble prediction).\n",
    "\n",
    "Then - Multiple Decision Trees are created from the training data. Each tree is trained on a random subset of the data (with replacement) and a random subset of features. This process is known as bagging or bootstrap aggregating.\n",
    "Each Decision Tree in the ensemble learns to make predictions independently.\n",
    "When presented with a new, unseen instance, each Decision Tree in the ensemble makes a prediction.\n",
    "The final prediction is made by combining the predictions of all the Decision Trees. This is typically done through a majority vote (for classification) or averaging (for regression).\n",
    "\n",
    "\"\"\"\n",
    "\n",
    "res =Par_chain.invoke({\"text\":text})"
   ]
  },
  {
   "cell_type": "code",
   "execution_count": 47,
   "metadata": {},
   "outputs": [
    {
     "name": "stdout",
     "output_type": "stream",
     "text": [
      "**Random Forest Algorithm Notes and Quiz**\n",
      "\n",
      "## Key Points of Random Forest Algorithm\n",
      "\n",
      "1. Collection of decision trees that work together to make predictions.\n",
      "2. Used for classification and regression tasks.\n",
      "3. Ensemble learning technique that combines multiple decision trees.\n",
      "4. Each tree is trained on a random subset of data and features (bagging/bootstrap aggregating).\n",
      "5. Final prediction is made by combining predictions of all trees (majority vote or averaging).\n",
      "\n",
      "## How Random Forest Works\n",
      "\n",
      "1. Multiple decision trees are created from training data.\n",
      "2. Each tree makes independent predictions.\n",
      "3. Final prediction is made by combining predictions of all trees.\n",
      "\n",
      "## Quiz Questions\n",
      "\n",
      "**1. What is a Random Forest?**\n",
      "Answer: A Random Forest is an algorithm that uses multiple decision trees to make predictions.\n",
      "\n",
      "**2. What is the main advantage of using a Random Forest over a single decision tree?**\n",
      "Answer: Random Forests improve prediction accuracy by combining the results of multiple decision trees trained on different subsets of data.\n",
      "\n",
      "**3. What is bagging in the context of Random Forests?**\n",
      "Answer: Bagging, or bootstrap aggregating, is the process of training each decision tree in a Random Forest on a random subset of the data (with replacement) and a random subset of features.\n",
      "\n",
      "**4. How are predictions made in a Random Forest?**\n",
      "Answer: Each decision tree in the ensemble makes a prediction on a new instance. The final prediction is made by combining the predictions of all the trees, usually through a majority vote (for classification) or averaging (for regression).\n",
      "\n",
      "**5. What are the two main types of tasks that Random Forests are used for?**\n",
      "Answer: Random Forests are widely used for classification and regression tasks.\n",
      "\n",
      "Let me know if you'd like more questions or have any further requests!\n"
     ]
    }
   ],
   "source": [
    "print (res)"
   ]
  },
  {
   "cell_type": "code",
   "execution_count": 37,
   "metadata": {},
   "outputs": [
    {
     "name": "stdout",
     "output_type": "stream",
     "text": [
      "          +---------------------------+            \n",
      "          | Parallel<notes,quiz>Input |            \n",
      "          +---------------------------+            \n",
      "                ***             ***                \n",
      "              **                   **              \n",
      "            **                       **            \n",
      "+----------------+              +----------------+ \n",
      "| PromptTemplate |              | PromptTemplate | \n",
      "+----------------+              +----------------+ \n",
      "          *                             *          \n",
      "          *                             *          \n",
      "          *                             *          \n",
      "    +----------+                  +----------+     \n",
      "    | ChatGroq |                  | ChatGroq |     \n",
      "    +----------+                  +----------+     \n",
      "          *                             *          \n",
      "          *                             *          \n",
      "          *                             *          \n",
      "+-----------------+            +-----------------+ \n",
      "| StrOutputParser |            | StrOutputParser | \n",
      "+-----------------+            +-----------------+ \n",
      "                ***             ***                \n",
      "                   **         **                   \n",
      "                     **     **                     \n",
      "          +----------------------------+           \n",
      "          | Parallel<notes,quiz>Output |           \n",
      "          +----------------------------+           \n",
      "                         *                         \n",
      "                         *                         \n",
      "                         *                         \n",
      "                +----------------+                 \n",
      "                | PromptTemplate |                 \n",
      "                +----------------+                 \n",
      "                         *                         \n",
      "                         *                         \n",
      "                         *                         \n",
      "                   +----------+                    \n",
      "                   | ChatGroq |                    \n",
      "                   +----------+                    \n",
      "                         *                         \n",
      "                         *                         \n",
      "                         *                         \n",
      "                +-----------------+                \n",
      "                | StrOutputParser |                \n",
      "                +-----------------+                \n",
      "                         *                         \n",
      "                         *                         \n",
      "                         *                         \n",
      "            +-----------------------+              \n",
      "            | StrOutputParserOutput |              \n",
      "            +-----------------------+              \n"
     ]
    }
   ],
   "source": [
    "Par_chain.get_graph().print_ascii()"
   ]
  },
  {
   "cell_type": "code",
   "execution_count": 38,
   "metadata": {},
   "outputs": [
    {
     "data": {
      "image/png": "[encoded data removed]",
      "text/plain": [
       "<IPython.core.display.Image object>"
      ]
     },
     "metadata": {},
     "output_type": "display_data"
    }
   ],
   "source": [
    "display(Image(Par_chain.get_graph().draw_mermaid_png()))"
   ]
  },
  {
   "cell_type": "markdown",
   "metadata": {},
   "source": [
    "# Conditional Chain  \n",
    "**FeedBack--> Analysis(+ve or -ve) --> Replay (thanks or Sorry)**"
   ]
  },
  {
   "cell_type": "code",
   "execution_count": 20,
   "metadata": {},
   "outputs": [
    {
     "name": "stdout",
     "output_type": "stream",
     "text": [
      "The sentiment of the feedback text \"this is a terrible smartphone\" is **negative**. \n",
      "\n",
      "The word \"terrible\" clearly expresses a strong negative opinion about the smartphone. \n",
      "\n"
     ]
    }
   ],
   "source": [
    "prompt1 =PromptTemplate(\n",
    "    template=\"Classify the sentiment of the following feedback text into positive and negative \\n {feedback}\",\n",
    "    input_variables=[\"feedback\"]\n",
    ")\n",
    "\n",
    "classifier_chain =prompt1 |LLM2 |parser\n",
    "\n",
    "print(classifier_chain.invoke({\"feedback\":\"this is a terrible smartphone\"}))\n"
   ]
  },
  {
   "cell_type": "code",
   "execution_count": 21,
   "metadata": {},
   "outputs": [
    {
     "name": "stdout",
     "output_type": "stream",
     "text": [
      "sentiment='negative'\n"
     ]
    }
   ],
   "source": [
    "#For structured output\n",
    "from langchain_core.output_parsers import PydanticOutputParser\n",
    "from typing import Literal\n",
    "from pydantic import BaseModel,Field\n",
    "\n",
    "class Feedback(BaseModel):\n",
    "    sentiment:Literal[\"positive\",\"negative\"] = Field(description=\"Give the sentiment of the feedback\")\n",
    "\n",
    "parser2=PydanticOutputParser(pydantic_object=Feedback)\n",
    "prompt1 =PromptTemplate(\n",
    "    template=\"Classify the sentiment of the following feedback text into positive and negative \\n {feedback} \\n {format_instruction}\",\n",
    "    input_variables=[\"feedback\"],\n",
    "    partial_variables={\"format_instruction\":parser2.get_format_instructions()}\n",
    ")\n",
    "\n",
    "classifier_chain =prompt1 |LLM2 |parser2\n",
    "\n",
    "print(classifier_chain.invoke({\"feedback\":\"this is a terrible smartphone\"}))\n"
   ]
  },
  {
   "cell_type": "code",
   "execution_count": 23,
   "metadata": {},
   "outputs": [
    {
     "name": "stdout",
     "output_type": "stream",
     "text": [
      "negative\n"
     ]
    }
   ],
   "source": [
    "res=classifier_chain.invoke({\"feedback\":\"this is a terrible smartphone\"}).sentiment\n",
    "print(res)"
   ]
  },
  {
   "cell_type": "code",
   "execution_count": null,
   "metadata": {},
   "outputs": [
    {
     "name": "stdout",
     "output_type": "stream",
     "text": [
      "I'm so sorry to hear that you're not satisfied. Can you please tell me more about what didn't meet your expectations? I'm here to listen and help make things right. Your feedback is valuable to me, and I'll do my best to address any issues and provide a better experience in the future.\n"
     ]
    }
   ],
   "source": [
    "#Now create the branchings\n",
    "from langchain.schema.runnable import RunnableParallel,RunnableBranch,RunnableLambda\n",
    "prompt4 =PromptTemplate(\n",
    "    template=\"Write an appropriate response to this positive feedback \\n {feedback} \",\n",
    "    input_variables=[\"feedback\"]\n",
    ")\n",
    "\n",
    "prompt5 =PromptTemplate(\n",
    "    template=\"Write an appropriate response to this negative feedback \\n {feedback} \",\n",
    "    input_variables=[\"feedback\"]\n",
    ")\n",
    "\n",
    "branch_chain =RunnableBranch(\n",
    "    #(condition2,chain2),\n",
    "    # If sentiment == \"positive\":run this \n",
    "    (lambda x:x.sentiment == \"positive\" ,prompt4 |LLM |parser),\n",
    "     (lambda x:x.sentiment == \"negative\" ,prompt5 |LLM |parser),\n",
    "     RunnableLambda(lambda x:\"could not find sentiment\")\n",
    ")\n",
    "\n",
    "\n",
    "chain = classifier_chain |branch_chain\n",
    "\n",
    "print(chain.invoke({\"feedback\":\"This is a terrible phone\"}))"
   ]
  },
  {
   "cell_type": "code",
   "execution_count": 25,
   "metadata": {},
   "outputs": [
    {
     "name": "stdout",
     "output_type": "stream",
     "text": [
      "Thank you so much for your kind words. We're thrilled to hear that you're happy with our service/product. Your positive feedback means a lot to us, and we're grateful for customers like you. If you have any other questions or need further assistance, please don't hesitate to reach out. We're always here to help.\n"
     ]
    }
   ],
   "source": [
    "print(chain.invoke({\"feedback\":\"This is the best phone\"}))"
   ]
  },
  {
   "cell_type": "code",
   "execution_count": 26,
   "metadata": {},
   "outputs": [
    {
     "name": "stdout",
     "output_type": "stream",
     "text": [
      "    +-------------+      \n",
      "    | PromptInput |      \n",
      "    +-------------+      \n",
      "            *            \n",
      "            *            \n",
      "            *            \n",
      "   +----------------+    \n",
      "   | PromptTemplate |    \n",
      "   +----------------+    \n",
      "            *            \n",
      "            *            \n",
      "            *            \n",
      "      +----------+       \n",
      "      | ChatGroq |       \n",
      "      +----------+       \n",
      "            *            \n",
      "            *            \n",
      "            *            \n",
      "+----------------------+ \n",
      "| PydanticOutputParser | \n",
      "+----------------------+ \n",
      "            *            \n",
      "            *            \n",
      "            *            \n",
      "       +--------+        \n",
      "       | Branch |        \n",
      "       +--------+        \n",
      "            *            \n",
      "            *            \n",
      "            *            \n",
      "    +--------------+     \n",
      "    | BranchOutput |     \n",
      "    +--------------+     \n"
     ]
    }
   ],
   "source": [
    "chain.get_graph().print_ascii()"
   ]
  }
 ],
 "metadata": {
  "kernelspec": {
   "display_name": "base",
   "language": "python",
   "name": "python3"
  },
  "language_info": {
   "codemirror_mode": {
    "name": "ipython",
    "version": 3
   },
   "file_extension": ".py",
   "mimetype": "text/x-python",
   "name": "python",
   "nbconvert_exporter": "python",
   "pygments_lexer": "ipython3",
   "version": "3.12.7"
  }
 },
 "nbformat": 4,
 "nbformat_minor": 2
}
