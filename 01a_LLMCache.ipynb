{
 "cells": [
  {
   "cell_type": "markdown",
   "id": "2668e733",
   "metadata": {},
   "source": [
    "## LangChain provides an optional caching layer for LLMs. This is useful for two reasons:\n",
    "\n",
    "It can save you money by reducing the number of API calls you make to the LLM provider, if you're often requesting the same completion multiple times. It can speed up your application by reducing the number of API calls you make to the LLM provider."
   ]
  },
  {
   "cell_type": "code",
   "execution_count": 4,
   "id": "f9f8f9d5",
   "metadata": {},
   "outputs": [],
   "source": [
    "#LLM call\n",
    "import os\n",
    "from dotenv import load_dotenv\n",
    "from langchain_groq import ChatGroq\n",
    "load_dotenv()\n",
    "\n",
    "GROQ_API_KEY =os.environ.get(\"GROQ_API_KEY\")\n",
    "\n",
    "LLM =ChatGroq(model =\"llama-3.3-70b-versatile\")"
   ]
  },
  {
   "cell_type": "code",
   "execution_count": 5,
   "id": "f4c0c0f7",
   "metadata": {},
   "outputs": [],
   "source": [
    "from langchain_core.globals import set_llm_cache\n",
    "from langchain_core.caches import InMemoryCache\n",
    "set_llm_cache(InMemoryCache())"
   ]
  },
  {
   "cell_type": "code",
   "execution_count": 6,
   "id": "ae854d2f",
   "metadata": {},
   "outputs": [
    {
     "data": {
      "text/plain": [
       "AIMessage(content='**LangGraph Update: Enhancing Language Models with Graph-Based Architectures**\\n\\nThe LangGraph update refers to a significant advancement in the field of natural language processing (NLP), specifically in the development of language models. This update involves the integration of graph-based architectures into traditional language models, resulting in improved performance, efficiency, and interpretability.\\n\\n**Key Features of LangGraph Update:**\\n\\n1. **Graph-Based Architecture**: The LangGraph update introduces a graph-based architecture, which represents words, entities, and relationships as nodes and edges in a graph. This allows the model to capture complex semantic relationships and dependencies between words.\\n2. **Entity Disambiguation**: The update includes entity disambiguation techniques, which enable the model to accurately identify and distinguish between different entities with similar names or contexts.\\n3. **Knowledge Graph Embeddings**: LangGraph incorporates knowledge graph embeddings, which provide a dense representation of entities and their relationships, facilitating more accurate and informative language understanding.\\n4. **Attention Mechanisms**: The update includes attention mechanisms that allow the model to focus on specific parts of the input text, enabling more efficient and effective processing.\\n\\n**Benefits of LangGraph Update:**\\n\\n1. **Improved Accuracy**: The LangGraph update leads to significant improvements in language modeling accuracy, particularly in tasks that require complex semantic understanding, such as question answering, text classification, and language translation.\\n2. **Increased Efficiency**: The graph-based architecture and attention mechanisms in LangGraph enable more efficient processing of input text, reducing computational requirements and improving inference speed.\\n3. **Enhanced Interpretability**: The update provides more transparent and interpretable results, allowing developers to better understand the decision-making processes of the model and identify areas for improvement.\\n\\n**Applications of LangGraph Update:**\\n\\n1. **Natural Language Processing**: LangGraph has numerous applications in NLP, including language translation, text summarization, sentiment analysis, and question answering.\\n2. **Information Retrieval**: The update can be used to improve search engines, recommender systems, and other information retrieval applications.\\n3. **Chatbots and Virtual Assistants**: LangGraph can enhance the performance of chatbots and virtual assistants, enabling more accurate and informative responses to user queries.\\n\\n**Conclusion:**\\n\\nThe LangGraph update represents a significant advancement in the field of NLP, offering improved performance, efficiency, and interpretability. By integrating graph-based architectures and entity disambiguation techniques, LangGraph enables more accurate and informative language understanding, with numerous applications in NLP, information retrieval, and chatbots. As the field of NLP continues to evolve, the LangGraph update is likely to play a key role in shaping the future of language models and their applications.', additional_kwargs={}, response_metadata={'token_usage': {'completion_tokens': 542, 'prompt_tokens': 41, 'total_tokens': 583, 'completion_time': 1.970909091, 'prompt_time': 0.001800652, 'queue_time': 0.00877227, 'total_time': 1.972709743}, 'model_name': 'llama-3.3-70b-versatile', 'system_fingerprint': 'fp_3f3b593e33', 'finish_reason': 'stop', 'logprobs': None}, id='run-ad6ebcb0-4e9c-4809-8b6d-a3f81f5a18a0-0', usage_metadata={'input_tokens': 41, 'output_tokens': 542, 'total_tokens': 583})"
      ]
     },
     "execution_count": 6,
     "metadata": {},
     "output_type": "execute_result"
    }
   ],
   "source": [
    "LLM.invoke(\"Tell me about langgraph Update\")"
   ]
  },
  {
   "cell_type": "markdown",
   "id": "a9f20cff",
   "metadata": {},
   "source": [
    "# For Sqlite cache"
   ]
  },
  {
   "cell_type": "code",
   "execution_count": null,
   "id": "e37cfd40",
   "metadata": {},
   "outputs": [],
   "source": [
    "from langchain_community.cache import SQLiteCache\n",
    "#If you use the . before name then it create the cache\n",
    "set_llm_cache(SQLiteCache(database_path='.sqlite.db'))"
   ]
  }
 ],
 "metadata": {
  "kernelspec": {
   "display_name": "base",
   "language": "python",
   "name": "python3"
  },
  "language_info": {
   "codemirror_mode": {
    "name": "ipython",
    "version": 3
   },
   "file_extension": ".py",
   "mimetype": "text/x-python",
   "name": "python",
   "nbconvert_exporter": "python",
   "pygments_lexer": "ipython3",
   "version": "3.12.7"
  }
 },
 "nbformat": 4,
 "nbformat_minor": 5
}
