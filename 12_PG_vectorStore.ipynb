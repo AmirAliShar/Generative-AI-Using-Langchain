{
 "cells": [
  {
   "cell_type": "markdown",
   "id": "88f90b8b",
   "metadata": {},
   "source": [
    "**pgvector = Postgres feature (extension).**\n",
    "\n",
    "**PGVectorStore = LangChain’s vector database wrapper on top of pgvector.**"
   ]
  },
  {
   "cell_type": "code",
   "execution_count": null,
   "id": "e86d9a11",
   "metadata": {},
   "outputs": [],
   "source": [
    "import os\n",
    "from dotenv import load_dotenv\n",
    "load_dotenv()"
   ]
  },
  {
   "cell_type": "code",
   "execution_count": 2,
   "id": "affaf6e2",
   "metadata": {},
   "outputs": [],
   "source": [
    "from langchain_ollama import OllamaEmbeddings\n",
    "\n",
    "embedding = OllamaEmbeddings(model=\"nomic-embed-text\")"
   ]
  },
  {
   "cell_type": "code",
   "execution_count": 3,
   "id": "4e1bdeac",
   "metadata": {},
   "outputs": [],
   "source": [
    "from langchain_postgres import PGEngine, PGVectorStore\n",
    "PG_HOST = os.environ.get(\"PGHOST\")\n",
    "PG_USER = os.environ.get(\"PGUSER\")\n",
    "PG_PASSWORD = os.environ.get(\"PGPASSWORD\")\n",
    "PG_DATABASE = os.environ.get(\"PGDATABASE\")\n",
    "PG_PORT = os.environ.get(\"PGPORT\", \"5432\")\n",
    "\n",
    "# Use async driver (not psycopg2!)\n",
    "connection_url = f\"postgresql+asyncpg://{PG_USER}:{PG_PASSWORD}@{PG_HOST}:{PG_PORT}/{PG_DATABASE}\"\n",
    "\n",
    "# Create engine\n",
    "pg_engine = PGEngine.from_connection_string(url=connection_url)\n"
   ]
  },
  {
   "cell_type": "code",
   "execution_count": 6,
   "id": "d1f90e76",
   "metadata": {},
   "outputs": [],
   "source": [
    "# Define table name and vector size\n",
    "TABLE_NAME = \"vectorstores\"\n",
    "VECTOR_SIZE = 768 # This depends on your embedding model\n",
    "\n",
    "# Create the table asynchronously\n",
    "await pg_engine.ainit_vectorstore_table(\n",
    "    table_name=TABLE_NAME,\n",
    "    vector_size=VECTOR_SIZE,\n",
    ")\n",
    "# metadata_columns=[Column(\"len\", \"INTEGER\")], For custom column name"
   ]
  },
  {
   "cell_type": "code",
   "execution_count": 7,
   "id": "eff84564",
   "metadata": {},
   "outputs": [],
   "source": [
    "vector_store = PGVectorStore.create_sync(\n",
    "    engine=pg_engine,\n",
    "    table_name=\"vectorstores\",\n",
    "    embedding_service=embedding,\n",
    ")"
   ]
  },
  {
   "cell_type": "markdown",
   "id": "db4c30c7",
   "metadata": {},
   "source": [
    "# Add the Text in the PG Vector"
   ]
  },
  {
   "cell_type": "code",
   "execution_count": 8,
   "id": "496c14c4",
   "metadata": {},
   "outputs": [
    {
     "data": {
      "text/plain": [
       "['4372e251-1729-4174-b63a-b0a2779b8d68',\n",
       " 'b0718cbd-435b-47db-be5c-10091ae87663']"
      ]
     },
     "execution_count": 8,
     "metadata": {},
     "output_type": "execute_result"
    }
   ],
   "source": [
    "# Add some texts\n",
    "vector_store.add_texts([\n",
    "    \"LangChain makes AI apps easier to build.\",\n",
    "    \"PGVector enables semantic search inside Postgres.\"\n",
    "])\n"
   ]
  },
  {
   "cell_type": "code",
   "execution_count": 9,
   "id": "5c88b597",
   "metadata": {},
   "outputs": [
    {
     "name": "stdout",
     "output_type": "stream",
     "text": [
      "PGVector enables semantic search inside Postgres.\n"
     ]
    }
   ],
   "source": [
    "# Perform a similarity search\n",
    "results = vector_store.similarity_search(\"is postgres support semantic search?\", k=1)\n",
    "for r in results:\n",
    "    print(r.page_content)"
   ]
  },
  {
   "cell_type": "markdown",
   "id": "66eb2715",
   "metadata": {},
   "source": [
    "# Add documents  \n",
    "Add documents to the vector store. Metadata is stored in a JSON column, see \"Create a custom Vector Store\" to store metadata to be used for filters."
   ]
  },
  {
   "cell_type": "code",
   "execution_count": 10,
   "id": "866572d7",
   "metadata": {},
   "outputs": [
    {
     "data": {
      "text/plain": [
       "['cb564269-14ff-423a-b4cf-f9768db18f3f',\n",
       " '74db8ec0-2177-42ad-8add-081c4f932423',\n",
       " '0a5b6fee-84a1-4810-bf3d-290f1b866c3f']"
      ]
     },
     "execution_count": 10,
     "metadata": {},
     "output_type": "execute_result"
    }
   ],
   "source": [
    "import uuid\n",
    "\n",
    "from langchain_core.documents import Document\n",
    "\n",
    "docs = [\n",
    "    Document(\n",
    "        id=str(uuid.uuid4()),\n",
    "        page_content=\"Red Apple\",\n",
    "        metadata={\"description\": \"red\", \"content\": \"1\", \"category\": \"fruit\"},\n",
    "    ),\n",
    "    Document(\n",
    "        id=str(uuid.uuid4()),\n",
    "        page_content=\"Banana Cavendish\",\n",
    "        metadata={\"description\": \"yellow\", \"content\": \"2\", \"category\": \"fruit\"},\n",
    "    ),\n",
    "    Document(\n",
    "        id=str(uuid.uuid4()),\n",
    "        page_content=\"Orange Navel\",\n",
    "        metadata={\"description\": \"orange\", \"content\": \"3\", \"category\": \"fruit\"},\n",
    "    ),\n",
    "]\n",
    "\n",
    "await vector_store.aadd_documents(docs)"
   ]
  },
  {
   "cell_type": "markdown",
   "id": "65b472ba",
   "metadata": {},
   "source": [
    "# Delete the Document"
   ]
  },
  {
   "cell_type": "code",
   "execution_count": 12,
   "id": "e6337d1a",
   "metadata": {},
   "outputs": [
    {
     "data": {
      "text/plain": [
       "True"
      ]
     },
     "execution_count": 12,
     "metadata": {},
     "output_type": "execute_result"
    }
   ],
   "source": [
    "ids = [str(uuid.uuid4()) for _ in docs]\n",
    "await vector_store.adelete([ids[1]])"
   ]
  },
  {
   "cell_type": "markdown",
   "id": "0ef69e94",
   "metadata": {},
   "source": [
    "# Search for documents"
   ]
  },
  {
   "cell_type": "code",
   "execution_count": 14,
   "id": "05bf08ac",
   "metadata": {},
   "outputs": [
    {
     "name": "stdout",
     "output_type": "stream",
     "text": [
      "[Document(id='cb564269-14ff-423a-b4cf-f9768db18f3f', metadata={'description': 'red', 'content': '1', 'category': 'fruit'}, page_content='Red Apple'), Document(id='74db8ec0-2177-42ad-8add-081c4f932423', metadata={'description': 'yellow', 'content': '2', 'category': 'fruit'}, page_content='Banana Cavendish'), Document(id='0a5b6fee-84a1-4810-bf3d-290f1b866c3f', metadata={'description': 'orange', 'content': '3', 'category': 'fruit'}, page_content='Orange Navel'), Document(id='4372e251-1729-4174-b63a-b0a2779b8d68', metadata={}, page_content='LangChain makes AI apps easier to build.')]\n"
     ]
    }
   ],
   "source": [
    "query = \"Which is red fruit ?\"\n",
    "docs = await vector_store.asimilarity_search(query)\n",
    "print(docs)"
   ]
  },
  {
   "cell_type": "markdown",
   "id": "feef40a5",
   "metadata": {},
   "source": [
    "# Search for documents by vector\n",
    "Search for similar documents using a vector embedding."
   ]
  },
  {
   "cell_type": "code",
   "execution_count": 15,
   "id": "3bf9f5a0",
   "metadata": {},
   "outputs": [
    {
     "name": "stdout",
     "output_type": "stream",
     "text": [
      "[Document(id='cb564269-14ff-423a-b4cf-f9768db18f3f', metadata={'description': 'red', 'content': '1', 'category': 'fruit'}, page_content='Red Apple'), Document(id='74db8ec0-2177-42ad-8add-081c4f932423', metadata={'description': 'yellow', 'content': '2', 'category': 'fruit'}, page_content='Banana Cavendish')]\n"
     ]
    }
   ],
   "source": [
    "query_vector = embedding.embed_query(query)\n",
    "docs = await vector_store.asimilarity_search_by_vector(query_vector, k=2)\n",
    "print(docs)"
   ]
  },
  {
   "cell_type": "markdown",
   "id": "00bff405",
   "metadata": {},
   "source": [
    "# Add a Index\n",
    "Speed up vector search queries by applying a vector index."
   ]
  },
  {
   "cell_type": "code",
   "execution_count": 16,
   "id": "e774de0d",
   "metadata": {},
   "outputs": [],
   "source": [
    "from langchain_postgres.v2.indexes import HNSWIndex, IVFFlatIndex\n",
    "\n",
    "index = IVFFlatIndex(name=\"Demo\")\n",
    "await vector_store.aapply_vector_index(index)\n",
    "\n",
    "# index = HNSWIndex(name=\"my-hnsw-index\")\n",
    "# await store.aapply_vector_index(index)"
   ]
  },
  {
   "cell_type": "code",
   "execution_count": 17,
   "id": "ada35ccc",
   "metadata": {},
   "outputs": [],
   "source": [
    "await vector_store.areindex(\"Demo\")  # Re-index using the default index name"
   ]
  },
  {
   "cell_type": "code",
   "execution_count": null,
   "id": "63e893da",
   "metadata": {},
   "outputs": [],
   "source": [
    "#await vector_store.adrop_vector_index(\"Demo\")  # Delete index using the index name"
   ]
  },
  {
   "cell_type": "code",
   "execution_count": null,
   "id": "8f120284",
   "metadata": {},
   "outputs": [
    {
     "name": "stdout",
     "output_type": "stream",
     "text": [
      "Red Apple\n",
      "Banana Cavendish\n",
      "Orange Navel\n",
      "LangChain makes AI apps easier to build.\n"
     ]
    }
   ],
   "source": [
    "query = \"I'd like a fruit.\"\n",
    "docs = await vector_store.asimilarity_search(query)\n",
    "for i in docs:\n",
    "   print(i.page_content)"
   ]
  },
  {
   "cell_type": "markdown",
   "id": "79803dfd",
   "metadata": {},
   "source": [
    "# Create a Vector Store using existing table"
   ]
  },
  {
   "cell_type": "code",
   "execution_count": null,
   "id": "481c5a10",
   "metadata": {},
   "outputs": [],
   "source": [
    "# Set an existing table name\n",
    "TABLE_NAME = \"products\"\n",
    "# SCHEMA_NAME = \"my_schema\"\n",
    "\n",
    "# Initialize PGVectorStore\n",
    "custom_store = await PGVectorStore.create(\n",
    "    engine=pg_engine,\n",
    "    table_name=TABLE_NAME,\n",
    "    # schema_name=SCHEMA_NAME,\n",
    "    embedding_service=embedding,\n",
    "    # Connect to existing VectorStore by customizing below column names\n",
    "    id_column=\"product_id\",\n",
    "    content_column=\"description\",\n",
    "    embedding_column=\"embed\",\n",
    "    metadata_columns=[\"name\", \"category\", \"price_usd\", \"quantity\", \"sku\", \"image_url\"],\n",
    "    metadata_json_column=\"metadata\",\n",
    ")\n",
    "\n",
    "\"\"\"Optional: If the embed column is newly created or has different dimensions than supported by embedding model, it is required to one-time add the embeddings for the old records, like this:\n",
    "\n",
    "ALTER TABLE products ADD COLUMN embed vector(768) DEFAULT NULL\"\"\""
   ]
  },
  {
   "cell_type": "markdown",
   "id": "69d1372f",
   "metadata": {},
   "source": [
    "# Hybrid Search with PGVectorStore  \n",
    "\n",
    "**Hybrid search combines semantic search (embeddings) and keyword search (TSV) to deliver more accurate results.**\n",
    "\n",
    "**Semantic search: understands meaning beyond exact words, good for synonyms and context, but may miss exact keyword matches.**\n",
    "\n",
    "**Keyword search: finds exact matches quickly, but lacks understanding of meaning or variations.**\n",
    "\n",
    "**👉 Together, hybrid search balances contextual understanding and precise keyword matching for more relevant results.**"
   ]
  },
  {
   "cell_type": "code",
   "execution_count": 32,
   "id": "a7beaf86",
   "metadata": {},
   "outputs": [],
   "source": [
    "from langchain_postgres import PGVectorStore\n",
    "from langchain_postgres.v2.hybrid_search_config import (\n",
    "    HybridSearchConfig,\n",
    "    reciprocal_rank_fusion,\n",
    ")\n",
    "\n",
    "hybrid_search_config = HybridSearchConfig(\n",
    "    tsv_column=\"hybrid_description\",\n",
    "    tsv_lang=\"pg_catalog.english\",\n",
    "    fusion_function=reciprocal_rank_fusion,\n",
    "    fusion_function_parameters={\n",
    "        \"rrf_k\": 60,\n",
    "        \"fetch_top_k\": 10,\n",
    "    },\n",
    ")\n",
    "TABLE_NAME = \"hybrid_searching_product\"\n",
    "\n",
    "await pg_engine.ainit_vectorstore_table(\n",
    "    table_name=TABLE_NAME,\n",
    "    # schema_name=SCHEMA_NAME,\n",
    "    vector_size=768,\n",
    "    id_column=\"product_id\",\n",
    "    content_column=\"description\",\n",
    "    embedding_column=\"embed\",\n",
    "    metadata_columns=\"name\",\n",
    "    metadata_json_column=\"metadata\",\n",
    "    hybrid_search_config=hybrid_search_config,\n",
    "    store_metadata=True,\n",
    ")\n"
   ]
  },
  {
   "cell_type": "code",
   "execution_count": null,
   "id": "f1a78db3",
   "metadata": {},
   "outputs": [],
   "source": [
    "\n",
    "vs_hybrid = await PGVectorStore.create(\n",
    "    pg_engine,\n",
    "    table_name=TABLE_NAME,\n",
    "    # schema_name=SCHEMA_NAME,\n",
    "    embedding_service=embedding,\n",
    "    # Connect to existing VectorStore by customizing below column names\n",
    "    id_column=\"product_id\",\n",
    "    content_column=\"description\",\n",
    "    embedding_column=\"embed\",\n",
    "    metadata_columns=\"name\",\n",
    "    metadata_json_column=\"metadata\",\n",
    "    hybrid_search_config=hybrid_search_config,\n",
    ")\n",
    "\n"
   ]
  },
  {
   "cell_type": "code",
   "execution_count": null,
   "id": "91cfd8b9",
   "metadata": {},
   "outputs": [],
   "source": [
    "# Fetch documents from the previously created store to fetch product documents\n",
    "docs = await custom_store.asimilarity_search(\"products\", k=5)\n",
    "# Add data normally to the hybrid search vector store, which will also add the tsv values in tsv_column\n",
    "await vs_hybrid.aadd_documents(docs)\n",
    "\n",
    "# Use hybrid search\n",
    "hybrid_docs = await vs_hybrid.asimilarity_search(\"products\", k=5)\n",
    "print(hybrid_docs)"
   ]
  }
 ],
 "metadata": {
  "kernelspec": {
   "display_name": "GenAI",
   "language": "python",
   "name": "python3"
  },
  "language_info": {
   "codemirror_mode": {
    "name": "ipython",
    "version": 3
   },
   "file_extension": ".py",
   "mimetype": "text/x-python",
   "name": "python",
   "nbconvert_exporter": "python",
   "pygments_lexer": "ipython3",
   "version": "3.12.11"
  }
 },
 "nbformat": 4,
 "nbformat_minor": 5
}
