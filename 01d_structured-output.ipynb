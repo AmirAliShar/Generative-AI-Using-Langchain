{
 "cells": [
  {
   "cell_type": "markdown",
   "metadata": {},
   "source": [
    "# TypeDict  \n",
    "**It is a way to define a dictionary in python where you specify what keys and values should exist. It helps ensure that your dictionary follows a specific structure.**  "
   ]
  },
  {
   "cell_type": "code",
   "execution_count": null,
   "metadata": {},
   "outputs": [
    {
     "name": "stdout",
     "output_type": "stream",
     "text": [
      "{'name': 'amir', 'age': 20}\n"
     ]
    }
   ],
   "source": [
    "from typing import TypedDict\n",
    "\n",
    "class Person(TypedDict):\n",
    " \n",
    " name:str\n",
    " age: int\n",
    "\n",
    "new_person: Person ={'name':'amir','age':20}\n",
    "\n",
    "print(new_person)"
   ]
  },
  {
   "cell_type": "code",
   "execution_count": 3,
   "metadata": {},
   "outputs": [],
   "source": [
    "from langchain_groq import ChatGroq\n",
    "from dotenv import load_dotenv\n",
    "from typing import TypedDict\n",
    "import os"
   ]
  },
  {
   "cell_type": "code",
   "execution_count": 6,
   "metadata": {},
   "outputs": [],
   "source": [
    "load_dotenv()\n",
    "GROQ_API_KEY = os.environ.get(\"GROQ_API_KEY\")\n",
    "LLM=ChatGroq(model=\"llama-3.3-70b-versatile\")"
   ]
  },
  {
   "cell_type": "code",
   "execution_count": null,
   "metadata": {},
   "outputs": [
    {
     "name": "stdout",
     "output_type": "stream",
     "text": [
      "neutral\n",
      "The user likes the hardware but is disappointed with the software, finding it bloated with too many pre-installed apps and an outdated UI, hoping for a software update to address these issues\n"
     ]
    }
   ],
   "source": [
    "# Schema --> how the data format is seeing\n",
    "class Review(TypedDict):\n",
    "    summary :str\n",
    "    sentiment: str\n",
    "\n",
    "structure_model = LLM.with_structured_output(Review)\n",
    "\n",
    "result = structure_model.invoke(\"\"\"\n",
    "                            THe hardware is great,but the software \n",
    "                            feels bloated.There are too many pre-installed \n",
    "                            apps that I can't remove.Also, the UI looks outdated\n",
    "                            compared to other brands.Hoping for a software update to fix this\"\"\")\n",
    "\n",
    "#print(result)\n",
    "print(result[\"sentiment\"])\n",
    "print(result[\"summary\"])\n"
   ]
  },
  {
   "cell_type": "markdown",
   "metadata": {},
   "source": [
    "# TypeDict with Annotated"
   ]
  },
  {
   "cell_type": "code",
   "execution_count": null,
   "metadata": {},
   "outputs": [],
   "source": [
    "from typing import Annotated ,Optional,Literal#Send the prompt to LLM\n",
    "\n",
    "# Schema --> how the data format is seeing\n",
    "class Review(TypedDict):\n",
    "    key_themes:Annotated[list[str],\"Write down all the key themes dicussed in the review in a list\"]\n",
    "    summary:Annotated[str,\"A Brief summary of the review\"]\n",
    "    # sentiment:Annotated[str,\"Return sentiment of the review either positive,negative or neutral\"]\n",
    "    sentiment:Annotated[Literal[\"POS\",\"NEG\"],\"Return sentiment of the review either positive,negative or neutral\"]\n",
    "    Pros:Annotated[Optional [list[str]],\"Write down all the prose inside a list\"]\n",
    "    Cons:Annotated[Optional[list[str]],\"Write down all the cons inside a list\"]\n",
    "    Name:Annotated[Optional[list[str]],\"Return the name of product\"]\n",
    "\n",
    "structure_model = LLM.with_structured_output(Review)\n",
    "\n",
    "result =structure_model.invoke(\"\"\"I recently upgraded to the Samsung Galaxy S24 Ultra, and I must say, it's an absolute powerhouse! The Snapdragon 8 Gen 3 processor makes everything lightning fast-whether I'm gaming, multitasking, or editing photos. The 5000mAh battery easily lasts a full day even with heavy use, and the 45W fast charging is a lifesaver.\n",
    "\n",
    "The S-Pen integration is a great touch for note-taking and quick sketches, though I don't use it often. What really blew me away is the 200MP camera-the night mode is stunning, capturing crisp, vibrant images even in low light. Zooming up to 100x actually works well for distant objects, but anything beyond 30x loses quality.\n",
    "\n",
    "However, the weight and size make it a bit uncomfortable for one-handed use. Also, Samsung's One UI still comes with bloatware-why do I need five different Samsung apps for things Google already provides? The $1,300 price tag is also a hard pill to swallow.\n",
    "\n",
    "Pros:\n",
    "Insanely powerful processor (great for gaming and productivity)\n",
    "Stunning 200MP camera with incredible zoom capabilities\n",
    "Long battery life with fast charging\n",
    "S-Pen support is unique and useful\n",
    "\n",
    "Cons:\n",
    "Bulky and heavy-not great for one-handed use\n",
    "Bloatware still exists in One UI\n",
    "Expensive compared to competitors \"\"\")\n"
   ]
  },
  {
   "cell_type": "code",
   "execution_count": 19,
   "metadata": {},
   "outputs": [
    {
     "data": {
      "text/plain": [
       "{'Name': 'Samsung Galaxy S24 Ultra',\n",
       " 'pros': ['Insanely powerful processor',\n",
       "  'Stunning 200MP camera with incredible zoom capabilities',\n",
       "  'Long battery life with fast charging',\n",
       "  'S-Pen support is unique and useful'],\n",
       " 'cons': ['Bulky and heavy-not great for one-handed use',\n",
       "  'Bloatware still exists in One UI',\n",
       "  'Expensive compared to competitors'],\n",
       " 'key_themes': ['Powerful processor',\n",
       "  'Camera capabilities',\n",
       "  'Battery life',\n",
       "  'S-Pen integration',\n",
       "  'One UI bloatware',\n",
       "  'Price'],\n",
       " 'summary': 'The Samsung Galaxy S24 Ultra is a powerful device with a great camera, long battery life, and unique S-Pen features, but is held back by its bulky design, bloatware, and high price tag',\n",
       " 'sentiment': 'POS'}"
      ]
     },
     "execution_count": 19,
     "metadata": {},
     "output_type": "execute_result"
    }
   ],
   "source": [
    "result"
   ]
  },
  {
   "cell_type": "markdown",
   "metadata": {},
   "source": [
    "# Pydantic  \n",
    "**It is a data validation and data parsing library for python.It ensures that the data you work with correct,structured,and type safe.**"
   ]
  },
  {
   "cell_type": "code",
   "execution_count": null,
   "metadata": {},
   "outputs": [
    {
     "data": {
      "text/plain": [
       "'avb@gmali.com'"
      ]
     },
     "execution_count": 38,
     "metadata": {},
     "output_type": "execute_result"
    }
   ],
   "source": [
    "# It is more powerful than Typedict\n",
    "from pydantic import BaseModel,EmailStr,Field\n",
    "\n",
    "class student(BaseModel):\n",
    "    name: str # = set here default value\n",
    "    age:Optional[int] =None\n",
    "    email:EmailStr\n",
    "    cgpa:float =Field(gt=0,lt=10,description=\"cgpa of the students\") #default value here and describtion\n",
    "\n",
    "new_student = {\"name\":\"Amir Ali\",'age':'20',\"email\":\"avb@gmali.com\",\"cgpa\":9}\n",
    "\n",
    "Student =student(**new_student)\n",
    "#You can convert it into dictionary or json\n",
    "student_dic = dict(Student)\n",
    "student_dic['email']"
   ]
  },
  {
   "cell_type": "code",
   "execution_count": 46,
   "metadata": {},
   "outputs": [],
   "source": [
    "from typing import Annotated ,Optional,Literal#Send the prompt to LLM\n",
    "from pydantic import BaseModel,Field\n",
    "\n",
    "# Schema --> how the data format is seeing\n",
    "class Review(BaseModel):\n",
    "    key_themes:list[str] = Field(description=\"Write down all the key themes dicussed in the review in a list\")\n",
    "    \n",
    "    summary:str = Field(description=\"A Brief summary of the review\")\n",
    "    sentiment:str = Field (description=\"Return sentiment of the review either positive,negative or neutral\")\n",
    "    Pros:Optional[list[str]] = Field(default=None,description = \"Write down all the prose inside a list\")\n",
    "    Cons:list[str]=Field(description=\"Write down all the cons inside a list\")\n",
    "    Name:list[str] =Field(description=\"Return the name of product\")\n",
    "\n",
    "structure_model = LLM.with_structured_output(Review)\n",
    "\n",
    "result =structure_model.invoke(\"\"\"I recently upgraded to the Samsung Galaxy S24 Ultra, and I must say, it's an absolute powerhouse! The Snapdragon 8 Gen 3 processor makes everything lightning fast-whether I'm gaming, multitasking, or editing photos. The 5000mAh battery easily lasts a full day even with heavy use, and the 45W fast charging is a lifesaver.\n",
    "\n",
    "The S-Pen integration is a great touch for note-taking and quick sketches, though I don't use it often. What really blew me away is the 200MP camera-the night mode is stunning, capturing crisp, vibrant images even in low light. Zooming up to 100x actually works well for distant objects, but anything beyond 30x loses quality.\n",
    "\n",
    "However, the weight and size make it a bit uncomfortable for one-handed use. Also, Samsung's One UI still comes with bloatware-why do I need five different Samsung apps for things Google already provides? The $1,300 price tag is also a hard pill to swallow.\n",
    "\n",
    "Pros:\n",
    "Insanely powerful processor (great for gaming and productivity)\n",
    "Stunning 200MP camera with incredible zoom capabilities\n",
    "Long battery life with fast charging\n",
    "S-Pen support is unique and useful\n",
    "\n",
    "Cons:\n",
    "Bulky and heavy-not great for one-handed use\n",
    "Bloatware still exists in One UI\n",
    "Expensive compared to competitors \"\"\")"
   ]
  },
  {
   "cell_type": "code",
   "execution_count": 47,
   "metadata": {},
   "outputs": [
    {
     "data": {
      "text/plain": [
       "Review(key_themes=['powerful processor', 'camera capabilities', 'battery life', 'S-Pen integration', 'bloatware', 'price'], summary=\"The Samsung Galaxy S24 Ultra is a powerful device with a great camera, long battery life, and unique S-Pen support, but it's bulky, has bloatware, and is expensive\", sentiment='positive', Pros=['Insanely powerful processor', 'Stunning 200MP camera with incredible zoom capabilities', 'Long battery life with fast charging', 'S-Pen support is unique and useful'], Cons=['Bulky and heavy-not great for one-handed use', 'Bloatware still exists in One UI', 'Expensive compared to competitors'], Name=['Samsung Galaxy S24 Ultra'])"
      ]
     },
     "execution_count": 47,
     "metadata": {},
     "output_type": "execute_result"
    }
   ],
   "source": [
    "result"
   ]
  },
  {
   "cell_type": "markdown",
   "metadata": {},
   "source": [
    "# JSON Schema   \n",
    "**IT is used to when have the multiple languages**"
   ]
  },
  {
   "cell_type": "code",
   "execution_count": 42,
   "metadata": {},
   "outputs": [
    {
     "data": {
      "text/plain": [
       "{'title': 'student',\n",
       " 'description': 'schema about students',\n",
       " 'Type': 'object',\n",
       " 'properties': {'name': 'string', 'age': 'integer'},\n",
       " 'required': ['name']}"
      ]
     },
     "execution_count": 42,
     "metadata": {},
     "output_type": "execute_result"
    }
   ],
   "source": [
    "{\n",
    "    \"title\":\"student\",\n",
    "    \"description\":\"schema about students\",\n",
    "    \"Type\":\"object\",\n",
    "    \"properties\":{\n",
    "        \"name\":\"string\",\n",
    "        \"age\":\"integer\"\n",
    "    },\n",
    "    \"required\":[\"name\"]\n",
    "\n",
    "}"
   ]
  },
  {
   "cell_type": "code",
   "execution_count": null,
   "metadata": {},
   "outputs": [
    {
     "name": "stdout",
     "output_type": "stream",
     "text": [
      "{'name': 'Amir Ali', 'pros': ['Insanely powerful processor (great for gaming and productivity)', 'Stunning 200MP camera with incredible zoom capabilities', 'Long battery life with fast charging', 'S-Pen support is unique and useful'], 'cons': ['weight and size make it uncomfortable for one-handed use', 'Samsung’s One UI comes with bloatware', 'expensive price tag'], 'key_themes': ['performance', 'camera', 'battery life', 'S-Pen integration', 'price'], 'summary': 'The Samsung Galaxy S24 Ultra is a powerful device with a great camera and long battery life, but it has some drawbacks like its size, bloatware, and expensive price', 'sentiment': 'pos'}\n"
     ]
    }
   ],
   "source": [
    "# schema\n",
    "json_schema = {\n",
    "  \"title\": \"Review\",\n",
    "  \"type\": \"object\",\n",
    "  \"properties\": {\n",
    "    \"key_themes\": {\n",
    "      \"type\": \"array\",\n",
    "      \"items\": {\n",
    "        \"type\": \"string\"\n",
    "      },\n",
    "      \"description\": \"Write down all the key themes discussed in the review in a list\"\n",
    "    },\n",
    "    \"summary\": {\n",
    "      \"type\": \"string\",\n",
    "      \"description\": \"A brief summary of the review\"\n",
    "    },\n",
    "    \"sentiment\": {\n",
    "      \"type\": \"string\",\n",
    "      \"enum\": [\"pos\", \"neg\"], #Literal == enum\n",
    "      \"description\": \"Return sentiment of the review either negative, positive or neutral\"\n",
    "    },\n",
    "    \"pros\": {\n",
    "      \"type\": [\"array\", \"null\"],\n",
    "      \"items\": {\n",
    "        \"type\": \"string\"\n",
    "      },\n",
    "      \"description\": \"Write down all the pros inside a list\"\n",
    "    },\n",
    "    \"cons\": {\n",
    "      \"type\": [\"array\", \"null\"],\n",
    "      \"items\": {\n",
    "        \"type\": \"string\"\n",
    "      },\n",
    "      \"description\": \"Write down all the cons inside a list\"\n",
    "    },\n",
    "    \"name\": {\n",
    "      \"type\": [\"string\", \"null\"],\n",
    "      \"description\": \"Write the name of the reviewer\"\n",
    "    }\n",
    "  },\n",
    "  \"required\": [\"key_themes\", \"summary\", \"sentiment\"]\n",
    "}\n",
    "\n",
    "\n",
    "structured_model = LLM.with_structured_output(json_schema)\n",
    "\n",
    "result = structured_model.invoke(\"\"\"I recently upgraded to the Samsung Galaxy S24 Ultra, and I must say, it’s an absolute powerhouse! The Snapdragon 8 Gen 3 processor makes everything lightning fast—whether I’m gaming, multitasking, or editing photos. The 5000mAh battery easily lasts a full day even with heavy use, and the 45W fast charging is a lifesaver.\n",
    "\n",
    "The S-Pen integration is a great touch for note-taking and quick sketches, though I don't use it often. What really blew me away is the 200MP camera—the night mode is stunning, capturing crisp, vibrant images even in low light. Zooming up to 100x actually works well for distant objects, but anything beyond 30x loses quality.\n",
    "\n",
    "However, the weight and size make it a bit uncomfortable for one-handed use. Also, Samsung’s One UI still comes with bloatware—why do I need five different Samsung apps for things Google already provides? The $1,300 price tag is also a hard pill to swallow.\n",
    "\n",
    "Pros:\n",
    "Insanely powerful processor (great for gaming and productivity)\n",
    "Stunning 200MP camera with incredible zoom capabilities\n",
    "Long battery life with fast charging\n",
    "S-Pen support is unique and useful\n",
    "                                 \n",
    "Review by Amir Ali\n",
    "\"\"\")\n",
    "\n",
    "print(result)"
   ]
  }
 ],
 "metadata": {
  "kernelspec": {
   "display_name": "base",
   "language": "python",
   "name": "python3"
  },
  "language_info": {
   "codemirror_mode": {
    "name": "ipython",
    "version": 3
   },
   "file_extension": ".py",
   "mimetype": "text/x-python",
   "name": "python",
   "nbconvert_exporter": "python",
   "pygments_lexer": "ipython3",
   "version": "3.12.7"
  }
 },
 "nbformat": 4,
 "nbformat_minor": 2
}
